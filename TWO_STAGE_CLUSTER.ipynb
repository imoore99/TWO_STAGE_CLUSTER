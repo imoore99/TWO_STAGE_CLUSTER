{
 "cells": [
  {
   "cell_type": "markdown",
   "id": "68698937",
   "metadata": {},
   "source": [
    "## TWO-STAGE CLUSTER ANALYSIS: EARLY PREPAYMENTS CUSTOMER SEGMENTATION"
   ]
  },
  {
   "cell_type": "markdown",
   "id": "1d7f9930",
   "metadata": {},
   "source": [
    "##### Import Libraries"
   ]
  },
  {
   "cell_type": "code",
   "execution_count": 1,
   "id": "8f86e819",
   "metadata": {},
   "outputs": [],
   "source": [
    "\n",
    "# data handling\n",
    "import pandas as pd\n",
    "import numpy as np\n",
    "from datetime import datetime\n",
    "# data visualization\n",
    "import matplotlib.pyplot as plt\n",
    "from matplotlib.patches import Rectangle\n",
    "from matplotlib.colors import LinearSegmentedColormap\n",
    "from matplotlib.ticker import FuncFormatter\n",
    "import seaborn as sns\n",
    "# data science\n",
    "from sklearn.preprocessing import StandardScaler\n",
    "from sklearn.cluster import KMeans\n",
    "from scipy.cluster.hierarchy import linkage, dendrogram\n",
    "from scipy.spatial.distance import pdist\n",
    "from scipy.stats import chi2_contingency\n",
    "\n",
    "# to augment data\n",
    "import random\n",
    "\n",
    "#ignore wa\n",
    "import warnings\n",
    "warnings.filterwarnings('ignore')\n",
    "\n",
    "#remove scientific notation\n",
    "pd.options.display.float_format = '{:.2f}'.format"
   ]
  },
  {
   "cell_type": "markdown",
   "id": "99117e26",
   "metadata": {},
   "source": [
    "##### Import Data"
   ]
  },
  {
   "cell_type": "code",
   "execution_count": 2,
   "id": "4ba83aed",
   "metadata": {},
   "outputs": [],
   "source": [
    "raw_df = pd.read_csv(\"AUTO_PREPAYMENT_DATA.csv\")"
   ]
  },
  {
   "cell_type": "code",
   "execution_count": 3,
   "id": "e5701bc5",
   "metadata": {},
   "outputs": [],
   "source": [
    "raw_df = raw_df.set_index('CUSTOMER_ID')"
   ]
  },
  {
   "cell_type": "code",
   "execution_count": 4,
   "id": "9e3329a2",
   "metadata": {},
   "outputs": [],
   "source": [
    "# augment data\n",
    "sample_size = int(len(raw_df)*.5)\n",
    "random_sample_indices = random.sample(list(raw_df.index), sample_size)\n",
    "sample_df = raw_df.loc[random_sample_indices].copy()\n",
    "\n",
    "raw_augmented_df = pd.concat([raw_df, sample_df], ignore_index=False)"
   ]
  },
  {
   "cell_type": "code",
   "execution_count": 5,
   "id": "907763dd",
   "metadata": {},
   "outputs": [],
   "source": [
    "raw_augmented_df = raw_augmented_df.reset_index()"
   ]
  },
  {
   "cell_type": "markdown",
   "id": "2387f283",
   "metadata": {},
   "source": [
    "##### Transform Data"
   ]
  },
  {
   "cell_type": "code",
   "execution_count": 6,
   "id": "11b901d6",
   "metadata": {},
   "outputs": [],
   "source": [
    "today = pd.Timestamp('3/31/2025') "
   ]
  },
  {
   "cell_type": "code",
   "execution_count": 7,
   "id": "29a11059",
   "metadata": {},
   "outputs": [],
   "source": [
    "# Convert to dates for calculation\n",
    "raw_df['LOAN_OPEN_DATE'] = pd.to_datetime(raw_df['LOAN_OPEN_DATE'])\n",
    "raw_df['LOAN_END_DATE'] = pd.to_datetime(raw_df['LOAN_END_DATE'])\n",
    "\n",
    "# Add derived fields for cohorts\n",
    "raw_df['OPEN_YEAR'] = raw_df['LOAN_OPEN_DATE'].dt.year\n",
    "raw_df['OPEN_QTR'] = raw_df['LOAN_OPEN_DATE'].dt.quarter\n",
    "raw_df['OPEN_YRQTR'] = raw_df['OPEN_YEAR'].astype(str) + 'Q' + raw_df['OPEN_QTR'].astype(str)"
   ]
  },
  {
   "cell_type": "code",
   "execution_count": 8,
   "id": "e2d12f33",
   "metadata": {},
   "outputs": [],
   "source": [
    "# Calculate Payoff Periods\n",
    "raw_df['DAYS_TO_PAYOFF'] = (pd.to_datetime(raw_df['PAYOFF_DATE'])-pd.to_datetime(raw_df['LOAN_OPEN_DATE'])).dt.days\n",
    "raw_df['MONTHS_TO_PAYOFF'] = round(((raw_df['DAYS_TO_PAYOFF']/365)*12))\n",
    "raw_df['MONTHS_TO_PAYOFF'].loc[(raw_df['IS_PAID_OFF'] == 'YES') & (raw_df['MONTHS_TO_PAYOFF'] == 0.0)] = 1"
   ]
  },
  {
   "cell_type": "code",
   "execution_count": 9,
   "id": "a68a677a",
   "metadata": {},
   "outputs": [],
   "source": [
    "PRE_FED = ['2020Q1', '2020Q2', '2020Q3', '2020Q4', '2021Q1', '2021Q2','2021Q3', '2021Q4', '2022Q1', '2022Q2']\n",
    "POST_FED = ['2022Q3', '2022Q4', '2023Q1','2023Q2', '2023Q3','2023Q4','2024Q1','2024Q2','2024Q3','2024Q4','2025Q1','2025Q2']"
   ]
  },
  {
   "cell_type": "code",
   "execution_count": 10,
   "id": "94e8bbad",
   "metadata": {},
   "outputs": [],
   "source": [
    "## Calculate Percentage of loan paid off\n",
    "raw_df['PERCENT_COMPLETED'] = ((today - raw_df['LOAN_OPEN_DATE']).dt.days)/((raw_df['LOAN_END_DATE']-raw_df['LOAN_OPEN_DATE']).dt.days)*100\n",
    "\n",
    "raw_df['PERCENT_COMPLETED'].loc[(raw_df['IS_PAID_OFF'] == 'YES') ] = 1"
   ]
  }
 ],
 "metadata": {
  "kernelspec": {
   "display_name": "Python 3",
   "language": "python",
   "name": "python3"
  },
  "language_info": {
   "codemirror_mode": {
    "name": "ipython",
    "version": 3
   },
   "file_extension": ".py",
   "mimetype": "text/x-python",
   "name": "python",
   "nbconvert_exporter": "python",
   "pygments_lexer": "ipython3",
   "version": "3.11.9"
  }
 },
 "nbformat": 4,
 "nbformat_minor": 5
}
